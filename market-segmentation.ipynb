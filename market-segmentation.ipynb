{
 "cells": [
  {
   "cell_type": "markdown",
   "id": "acf767b7",
   "metadata": {
    "papermill": {
     "duration": 0.015528,
     "end_time": "2022-03-21T15:37:58.737541",
     "exception": false,
     "start_time": "2022-03-21T15:37:58.722013",
     "status": "completed"
    },
    "tags": []
   },
   "source": [
    "# **Import Relevant libraries :**\n"
   ]
  },
  {
   "cell_type": "code",
   "execution_count": 1,
   "id": "d35a560c",
   "metadata": {
    "execution": {
     "iopub.execute_input": "2022-03-21T15:37:58.774142Z",
     "iopub.status.busy": "2022-03-21T15:37:58.772446Z",
     "iopub.status.idle": "2022-03-21T15:38:00.205132Z",
     "shell.execute_reply": "2022-03-21T15:38:00.204307Z",
     "shell.execute_reply.started": "2022-03-21T15:12:28.692223Z"
    },
    "papermill": {
     "duration": 1.450884,
     "end_time": "2022-03-21T15:38:00.205305",
     "exception": false,
     "start_time": "2022-03-21T15:37:58.754421",
     "status": "completed"
    },
    "tags": []
   },
   "outputs": [],
   "source": [
    "import numpy as np\n",
    "import pandas as pd\n",
    "import seaborn as sns\n",
    "import matplotlib.pyplot as plt\n",
    "from sklearn.cluster import KMeans\n",
    "sns.set()\n",
    "from sklearn import preprocessing"
   ]
  },
  {
   "cell_type": "markdown",
   "id": "4e63754e",
   "metadata": {
    "papermill": {
     "duration": 0.013293,
     "end_time": "2022-03-21T15:38:00.232327",
     "exception": false,
     "start_time": "2022-03-21T15:38:00.219034",
     "status": "completed"
    },
    "tags": []
   },
   "source": [
    "# **Load the data :**"
   ]
  },
  {
   "cell_type": "code",
   "execution_count": 2,
   "id": "a99f496d",
   "metadata": {
    "execution": {
     "iopub.execute_input": "2022-03-21T15:38:00.273403Z",
     "iopub.status.busy": "2022-03-21T15:38:00.272744Z",
     "iopub.status.idle": "2022-03-21T15:38:00.306758Z",
     "shell.execute_reply": "2022-03-21T15:38:00.307234Z",
     "shell.execute_reply.started": "2022-03-21T14:57:29.274652Z"
    },
    "papermill": {
     "duration": 0.055322,
     "end_time": "2022-03-21T15:38:00.307400",
     "exception": false,
     "start_time": "2022-03-21T15:38:00.252078",
     "status": "completed"
    },
    "tags": []
   },
   "outputs": [
    {
     "data": {
      "text/html": [
       "<div>\n",
       "<style scoped>\n",
       "    .dataframe tbody tr th:only-of-type {\n",
       "        vertical-align: middle;\n",
       "    }\n",
       "\n",
       "    .dataframe tbody tr th {\n",
       "        vertical-align: top;\n",
       "    }\n",
       "\n",
       "    .dataframe thead th {\n",
       "        text-align: right;\n",
       "    }\n",
       "</style>\n",
       "<table border=\"1\" class=\"dataframe\">\n",
       "  <thead>\n",
       "    <tr style=\"text-align: right;\">\n",
       "      <th></th>\n",
       "      <th>Satisfaction</th>\n",
       "      <th>Loyalty</th>\n",
       "    </tr>\n",
       "  </thead>\n",
       "  <tbody>\n",
       "    <tr>\n",
       "      <th>0</th>\n",
       "      <td>4</td>\n",
       "      <td>-1.33</td>\n",
       "    </tr>\n",
       "    <tr>\n",
       "      <th>1</th>\n",
       "      <td>6</td>\n",
       "      <td>-0.28</td>\n",
       "    </tr>\n",
       "    <tr>\n",
       "      <th>2</th>\n",
       "      <td>5</td>\n",
       "      <td>-0.99</td>\n",
       "    </tr>\n",
       "    <tr>\n",
       "      <th>3</th>\n",
       "      <td>7</td>\n",
       "      <td>-0.29</td>\n",
       "    </tr>\n",
       "    <tr>\n",
       "      <th>4</th>\n",
       "      <td>4</td>\n",
       "      <td>1.06</td>\n",
       "    </tr>\n",
       "    <tr>\n",
       "      <th>5</th>\n",
       "      <td>1</td>\n",
       "      <td>-1.66</td>\n",
       "    </tr>\n",
       "    <tr>\n",
       "      <th>6</th>\n",
       "      <td>10</td>\n",
       "      <td>-0.97</td>\n",
       "    </tr>\n",
       "    <tr>\n",
       "      <th>7</th>\n",
       "      <td>8</td>\n",
       "      <td>-0.32</td>\n",
       "    </tr>\n",
       "    <tr>\n",
       "      <th>8</th>\n",
       "      <td>8</td>\n",
       "      <td>1.02</td>\n",
       "    </tr>\n",
       "    <tr>\n",
       "      <th>9</th>\n",
       "      <td>8</td>\n",
       "      <td>0.68</td>\n",
       "    </tr>\n",
       "    <tr>\n",
       "      <th>10</th>\n",
       "      <td>10</td>\n",
       "      <td>-0.34</td>\n",
       "    </tr>\n",
       "    <tr>\n",
       "      <th>11</th>\n",
       "      <td>5</td>\n",
       "      <td>0.39</td>\n",
       "    </tr>\n",
       "    <tr>\n",
       "      <th>12</th>\n",
       "      <td>5</td>\n",
       "      <td>-1.69</td>\n",
       "    </tr>\n",
       "    <tr>\n",
       "      <th>13</th>\n",
       "      <td>2</td>\n",
       "      <td>0.67</td>\n",
       "    </tr>\n",
       "    <tr>\n",
       "      <th>14</th>\n",
       "      <td>7</td>\n",
       "      <td>0.27</td>\n",
       "    </tr>\n",
       "    <tr>\n",
       "      <th>15</th>\n",
       "      <td>9</td>\n",
       "      <td>1.36</td>\n",
       "    </tr>\n",
       "    <tr>\n",
       "      <th>16</th>\n",
       "      <td>8</td>\n",
       "      <td>1.38</td>\n",
       "    </tr>\n",
       "    <tr>\n",
       "      <th>17</th>\n",
       "      <td>7</td>\n",
       "      <td>1.36</td>\n",
       "    </tr>\n",
       "    <tr>\n",
       "      <th>18</th>\n",
       "      <td>7</td>\n",
       "      <td>-0.34</td>\n",
       "    </tr>\n",
       "    <tr>\n",
       "      <th>19</th>\n",
       "      <td>9</td>\n",
       "      <td>0.67</td>\n",
       "    </tr>\n",
       "    <tr>\n",
       "      <th>20</th>\n",
       "      <td>10</td>\n",
       "      <td>1.18</td>\n",
       "    </tr>\n",
       "    <tr>\n",
       "      <th>21</th>\n",
       "      <td>3</td>\n",
       "      <td>-1.69</td>\n",
       "    </tr>\n",
       "    <tr>\n",
       "      <th>22</th>\n",
       "      <td>4</td>\n",
       "      <td>1.04</td>\n",
       "    </tr>\n",
       "    <tr>\n",
       "      <th>23</th>\n",
       "      <td>3</td>\n",
       "      <td>-0.96</td>\n",
       "    </tr>\n",
       "    <tr>\n",
       "      <th>24</th>\n",
       "      <td>6</td>\n",
       "      <td>1.03</td>\n",
       "    </tr>\n",
       "    <tr>\n",
       "      <th>25</th>\n",
       "      <td>9</td>\n",
       "      <td>-0.99</td>\n",
       "    </tr>\n",
       "    <tr>\n",
       "      <th>26</th>\n",
       "      <td>10</td>\n",
       "      <td>0.37</td>\n",
       "    </tr>\n",
       "    <tr>\n",
       "      <th>27</th>\n",
       "      <td>9</td>\n",
       "      <td>0.03</td>\n",
       "    </tr>\n",
       "    <tr>\n",
       "      <th>28</th>\n",
       "      <td>3</td>\n",
       "      <td>-1.36</td>\n",
       "    </tr>\n",
       "    <tr>\n",
       "      <th>29</th>\n",
       "      <td>5</td>\n",
       "      <td>0.73</td>\n",
       "    </tr>\n",
       "  </tbody>\n",
       "</table>\n",
       "</div>"
      ],
      "text/plain": [
       "    Satisfaction  Loyalty\n",
       "0              4    -1.33\n",
       "1              6    -0.28\n",
       "2              5    -0.99\n",
       "3              7    -0.29\n",
       "4              4     1.06\n",
       "5              1    -1.66\n",
       "6             10    -0.97\n",
       "7              8    -0.32\n",
       "8              8     1.02\n",
       "9              8     0.68\n",
       "10            10    -0.34\n",
       "11             5     0.39\n",
       "12             5    -1.69\n",
       "13             2     0.67\n",
       "14             7     0.27\n",
       "15             9     1.36\n",
       "16             8     1.38\n",
       "17             7     1.36\n",
       "18             7    -0.34\n",
       "19             9     0.67\n",
       "20            10     1.18\n",
       "21             3    -1.69\n",
       "22             4     1.04\n",
       "23             3    -0.96\n",
       "24             6     1.03\n",
       "25             9    -0.99\n",
       "26            10     0.37\n",
       "27             9     0.03\n",
       "28             3    -1.36\n",
       "29             5     0.73"
      ]
     },
     "execution_count": 2,
     "metadata": {},
     "output_type": "execute_result"
    }
   ],
   "source": [
    "data = pd.read_csv('../input/market-segmentaion/3.12.Example.csv')\n",
    "data"
   ]
  },
  {
   "cell_type": "markdown",
   "id": "362351ca",
   "metadata": {
    "papermill": {
     "duration": 0.019298,
     "end_time": "2022-03-21T15:38:00.344626",
     "exception": false,
     "start_time": "2022-03-21T15:38:00.325328",
     "status": "completed"
    },
    "tags": []
   },
   "source": [
    "# **Plotting the data :**"
   ]
  },
  {
   "cell_type": "code",
   "execution_count": 3,
   "id": "b781f102",
   "metadata": {
    "execution": {
     "iopub.execute_input": "2022-03-21T15:38:00.382230Z",
     "iopub.status.busy": "2022-03-21T15:38:00.376010Z",
     "iopub.status.idle": "2022-03-21T15:38:00.634654Z",
     "shell.execute_reply": "2022-03-21T15:38:00.635186Z",
     "shell.execute_reply.started": "2022-03-21T15:00:51.711363Z"
    },
    "papermill": {
     "duration": 0.276348,
     "end_time": "2022-03-21T15:38:00.635362",
     "exception": false,
     "start_time": "2022-03-21T15:38:00.359014",
     "status": "completed"
    },
    "tags": []
   },
   "outputs": [
    {
     "data": {
      "text/plain": [
       "Text(0, 0.5, 'loyalty')"
      ]
     },
     "execution_count": 3,
     "metadata": {},
     "output_type": "execute_result"
    },
    {
     "data": {
      "image/png": "[encoded data removed]",
      "text/plain": [
       "<Figure size 432x288 with 1 Axes>"
      ]
     },
     "metadata": {},
     "output_type": "display_data"
    }
   ],
   "source": [
    "plt.scatter(data['Satisfaction'],data['Loyalty'])\n",
    "plt.xlabel('Satisfaction')\n",
    "plt.ylabel('loyalty')"
   ]
  },
  {
   "cell_type": "code",
   "execution_count": 4,
   "id": "053f379c",
   "metadata": {
    "execution": {
     "iopub.execute_input": "2022-03-21T15:38:00.670455Z",
     "iopub.status.busy": "2022-03-21T15:38:00.669483Z",
     "iopub.status.idle": "2022-03-21T15:38:00.673027Z",
     "shell.execute_reply": "2022-03-21T15:38:00.673547Z",
     "shell.execute_reply.started": "2022-03-21T15:01:57.101348Z"
    },
    "papermill": {
     "duration": 0.022893,
     "end_time": "2022-03-21T15:38:00.673718",
     "exception": false,
     "start_time": "2022-03-21T15:38:00.650825",
     "status": "completed"
    },
    "tags": []
   },
   "outputs": [],
   "source": [
    "x = data.copy()"
   ]
  },
  {
   "cell_type": "markdown",
   "id": "34a8db46",
   "metadata": {
    "papermill": {
     "duration": 0.015659,
     "end_time": "2022-03-21T15:38:00.704845",
     "exception": false,
     "start_time": "2022-03-21T15:38:00.689186",
     "status": "completed"
    },
    "tags": []
   },
   "source": [
    "# **Clustering :**"
   ]
  },
  {
   "cell_type": "code",
   "execution_count": 5,
   "id": "63811785",
   "metadata": {
    "execution": {
     "iopub.execute_input": "2022-03-21T15:38:00.743373Z",
     "iopub.status.busy": "2022-03-21T15:38:00.742690Z",
     "iopub.status.idle": "2022-03-21T15:38:00.764703Z",
     "shell.execute_reply": "2022-03-21T15:38:00.765179Z",
     "shell.execute_reply.started": "2022-03-21T15:03:12.480020Z"
    },
    "papermill": {
     "duration": 0.044703,
     "end_time": "2022-03-21T15:38:00.765344",
     "exception": false,
     "start_time": "2022-03-21T15:38:00.720641",
     "status": "completed"
    },
    "tags": []
   },
   "outputs": [
    {
     "data": {
      "text/plain": [
       "KMeans(n_clusters=2)"
      ]
     },
     "execution_count": 5,
     "metadata": {},
     "output_type": "execute_result"
    }
   ],
   "source": [
    "kmeans = KMeans(2)\n",
    "kmeans.fit(x)"
   ]
  },
  {
   "cell_type": "markdown",
   "id": "2f3d8a5a",
   "metadata": {
    "papermill": {
     "duration": 0.016225,
     "end_time": "2022-03-21T15:38:00.797118",
     "exception": false,
     "start_time": "2022-03-21T15:38:00.780893",
     "status": "completed"
    },
    "tags": []
   },
   "source": [
    "# **Clustering Summary :**"
   ]
  },
  {
   "cell_type": "code",
   "execution_count": 6,
   "id": "a4d3c454",
   "metadata": {
    "execution": {
     "iopub.execute_input": "2022-03-21T15:38:00.832355Z",
     "iopub.status.busy": "2022-03-21T15:38:00.831345Z",
     "iopub.status.idle": "2022-03-21T15:38:01.044847Z",
     "shell.execute_reply": "2022-03-21T15:38:01.045295Z",
     "shell.execute_reply.started": "2022-03-21T15:09:59.844117Z"
    },
    "papermill": {
     "duration": 0.232712,
     "end_time": "2022-03-21T15:38:01.045477",
     "exception": false,
     "start_time": "2022-03-21T15:38:00.812765",
     "status": "completed"
    },
    "tags": []
   },
   "outputs": [
    {
     "data": {
      "text/plain": [
       "Text(0, 0.5, 'Loyalty')"
      ]
     },
     "execution_count": 6,
     "metadata": {},
     "output_type": "execute_result"
    },
    {
     "data": {
      "image/png": "[encoded data removed]",
      "text/plain": [
       "<Figure size 432x288 with 1 Axes>"
      ]
     },
     "metadata": {},
     "output_type": "display_data"
    }
   ],
   "source": [
    "cluster = x.copy()\n",
    "cluster['cluster_pred'] = kmeans.fit_predict(x)\n",
    "\n",
    "plt.scatter(data['Satisfaction'],data['Loyalty'],c =  cluster['cluster_pred'] , cmap = 'rainbow')\n",
    "plt.xlabel('Satisfaction',fontsize = 20)\n",
    "plt.ylabel('Loyalty', fontsize = 20)"
   ]
  },
  {
   "cell_type": "markdown",
   "id": "83ef0a07",
   "metadata": {
    "papermill": {
     "duration": 0.016547,
     "end_time": "2022-03-21T15:38:01.079048",
     "exception": false,
     "start_time": "2022-03-21T15:38:01.062501",
     "status": "completed"
    },
    "tags": []
   },
   "source": [
    "# **Standardizing the varable :**"
   ]
  },
  {
   "cell_type": "code",
   "execution_count": 7,
   "id": "dac2ecfd",
   "metadata": {
    "execution": {
     "iopub.execute_input": "2022-03-21T15:38:01.122524Z",
     "iopub.status.busy": "2022-03-21T15:38:01.121673Z",
     "iopub.status.idle": "2022-03-21T15:38:01.124963Z",
     "shell.execute_reply": "2022-03-21T15:38:01.125417Z",
     "shell.execute_reply.started": "2022-03-21T15:13:13.897193Z"
    },
    "papermill": {
     "duration": 0.029681,
     "end_time": "2022-03-21T15:38:01.125588",
     "exception": false,
     "start_time": "2022-03-21T15:38:01.095907",
     "status": "completed"
    },
    "tags": []
   },
   "outputs": [
    {
     "data": {
      "text/plain": [
       "array([[-0.93138063, -1.3318111 ],\n",
       "       [-0.15523011, -0.28117124],\n",
       "       [-0.54330537, -0.99160391],\n",
       "       [ 0.23284516, -0.29117733],\n",
       "       [-0.93138063,  1.05964534],\n",
       "       [-2.09560642, -1.6620122 ],\n",
       "       [ 1.39707095, -0.97159172],\n",
       "       [ 0.62092042, -0.32119561],\n",
       "       [ 0.62092042,  1.01962097],\n",
       "       [ 0.62092042,  0.67941378],\n",
       "       [ 1.39707095, -0.3412078 ],\n",
       "       [-0.54330537,  0.38923705],\n",
       "       [-0.54330537, -1.69203048],\n",
       "       [-1.70753116,  0.66940768],\n",
       "       [ 0.23284516,  0.26916393],\n",
       "       [ 1.00899568,  1.35982816],\n",
       "       [ 0.62092042,  1.37984035],\n",
       "       [ 0.23284516,  1.35982816],\n",
       "       [ 0.23284516, -0.3412078 ],\n",
       "       [ 1.00899568,  0.66940768],\n",
       "       [ 1.39707095,  1.17971847],\n",
       "       [-1.31945589, -1.69203048],\n",
       "       [-0.93138063,  1.03963316],\n",
       "       [-1.31945589, -0.96158562],\n",
       "       [-0.15523011,  1.02962706],\n",
       "       [ 1.00899568, -0.99160391],\n",
       "       [ 1.39707095,  0.36922486],\n",
       "       [ 1.00899568,  0.02901767],\n",
       "       [-1.31945589, -1.36182938],\n",
       "       [-0.54330537,  0.72944425]])"
      ]
     },
     "execution_count": 7,
     "metadata": {},
     "output_type": "execute_result"
    }
   ],
   "source": [
    "x_scaled = preprocessing.scale(x)\n",
    "x_scaled"
   ]
  },
  {
   "cell_type": "markdown",
   "id": "9a0ed3b7",
   "metadata": {
    "papermill": {
     "duration": 0.016878,
     "end_time": "2022-03-21T15:38:01.159573",
     "exception": false,
     "start_time": "2022-03-21T15:38:01.142695",
     "status": "completed"
    },
    "tags": []
   },
   "source": [
    "# **Calculating the number of clusters by Elbow Method :**"
   ]
  },
  {
   "cell_type": "code",
   "execution_count": 8,
   "id": "f144aab1",
   "metadata": {
    "execution": {
     "iopub.execute_input": "2022-03-21T15:38:01.199456Z",
     "iopub.status.busy": "2022-03-21T15:38:01.196528Z",
     "iopub.status.idle": "2022-03-21T15:38:01.956644Z",
     "shell.execute_reply": "2022-03-21T15:38:01.955779Z",
     "shell.execute_reply.started": "2022-03-21T15:21:17.006315Z"
    },
    "papermill": {
     "duration": 0.780133,
     "end_time": "2022-03-21T15:38:01.956863",
     "exception": false,
     "start_time": "2022-03-21T15:38:01.176730",
     "status": "completed"
    },
    "tags": []
   },
   "outputs": [
    {
     "data": {
      "text/plain": [
       "[59.99999999999999,\n",
       " 29.818973034723143,\n",
       " 17.913349527387965,\n",
       " 10.24718180592842,\n",
       " 7.792695153937187,\n",
       " 6.571285077136386,\n",
       " 5.464232350204885,\n",
       " 4.577850786434791,\n",
       " 3.728283444358953]"
      ]
     },
     "execution_count": 8,
     "metadata": {},
     "output_type": "execute_result"
    }
   ],
   "source": [
    "wcss = []\n",
    "\n",
    "for i in range(1,10):\n",
    "    kmeans = KMeans(i)\n",
    "    kmeans.fit(x_scaled)\n",
    "    wcss.append(kmeans.inertia_)\n",
    "    \n",
    "wcss"
   ]
  },
  {
   "cell_type": "code",
   "execution_count": 9,
   "id": "0a934774",
   "metadata": {
    "execution": {
     "iopub.execute_input": "2022-03-21T15:38:02.002917Z",
     "iopub.status.busy": "2022-03-21T15:38:02.001938Z",
     "iopub.status.idle": "2022-03-21T15:38:02.267104Z",
     "shell.execute_reply": "2022-03-21T15:38:02.267649Z",
     "shell.execute_reply.started": "2022-03-21T15:21:23.483964Z"
    },
    "papermill": {
     "duration": 0.287128,
     "end_time": "2022-03-21T15:38:02.267814",
     "exception": false,
     "start_time": "2022-03-21T15:38:01.980686",
     "status": "completed"
    },
    "tags": []
   },
   "outputs": [
    {
     "data": {
      "text/plain": [
       "Text(0, 0.5, 'WCSS')"
      ]
     },
     "execution_count": 9,
     "metadata": {},
     "output_type": "execute_result"
    },
    {
     "data": {
      "image/png": "[encoded data removed]",
      "text/plain": [
       "<Figure size 432x288 with 1 Axes>"
      ]
     },
     "metadata": {},
     "output_type": "display_data"
    }
   ],
   "source": [
    "plt.plot(range(1,10),wcss)\n",
    "plt.xlabel('Number of clusters')\n",
    "\n",
    "plt.ylabel('WCSS')"
   ]
  },
  {
   "cell_type": "markdown",
   "id": "27b188ba",
   "metadata": {
    "papermill": {
     "duration": 0.018654,
     "end_time": "2022-03-21T15:38:02.305116",
     "exception": false,
     "start_time": "2022-03-21T15:38:02.286462",
     "status": "completed"
    },
    "tags": []
   },
   "source": [
    "# **Selecting the Number of clusters :**"
   ]
  },
  {
   "cell_type": "code",
   "execution_count": 10,
   "id": "5e928b75",
   "metadata": {
    "execution": {
     "iopub.execute_input": "2022-03-21T15:38:02.348680Z",
     "iopub.status.busy": "2022-03-21T15:38:02.347703Z",
     "iopub.status.idle": "2022-03-21T15:38:02.394484Z",
     "shell.execute_reply": "2022-03-21T15:38:02.395045Z",
     "shell.execute_reply.started": "2022-03-21T15:33:24.019804Z"
    },
    "papermill": {
     "duration": 0.070561,
     "end_time": "2022-03-21T15:38:02.395246",
     "exception": false,
     "start_time": "2022-03-21T15:38:02.324685",
     "status": "completed"
    },
    "tags": []
   },
   "outputs": [],
   "source": [
    "kmeans_new = KMeans(5)\n",
    "kmeans_new.fit(x_scaled)\n",
    "cluster_new = x.copy()\n",
    "cluster_new['cluster_pred'] = kmeans_new.fit_predict(x_scaled)\n"
   ]
  },
  {
   "cell_type": "code",
   "execution_count": 11,
   "id": "56b6c0f0",
   "metadata": {
    "execution": {
     "iopub.execute_input": "2022-03-21T15:38:02.439413Z",
     "iopub.status.busy": "2022-03-21T15:38:02.438726Z",
     "iopub.status.idle": "2022-03-21T15:38:02.627459Z",
     "shell.execute_reply": "2022-03-21T15:38:02.627941Z",
     "shell.execute_reply.started": "2022-03-21T15:33:52.082043Z"
    },
    "papermill": {
     "duration": 0.213757,
     "end_time": "2022-03-21T15:38:02.628173",
     "exception": false,
     "start_time": "2022-03-21T15:38:02.414416",
     "status": "completed"
    },
    "tags": []
   },
   "outputs": [
    {
     "data": {
      "text/plain": [
       "Text(0, 0.5, 'Loyalty')"
      ]
     },
     "execution_count": 11,
     "metadata": {},
     "output_type": "execute_result"
    },
    {
     "data": {
      "image/png": "[encoded data removed]",
      "text/plain": [
       "<Figure size 432x288 with 1 Axes>"
      ]
     },
     "metadata": {},
     "output_type": "display_data"
    }
   ],
   "source": [
    "plt.scatter(cluster_new['Satisfaction'],cluster_new['Loyalty'],c = cluster_new['cluster_pred'], cmap = 'rainbow')\n",
    "plt.xlabel('Satisfaction')\n",
    "plt.ylabel('Loyalty')"
   ]
  },
  {
   "cell_type": "markdown",
   "id": "c0150b6d",
   "metadata": {
    "papermill": {
     "duration": 0.019334,
     "end_time": "2022-03-21T15:38:02.668309",
     "exception": false,
     "start_time": "2022-03-21T15:38:02.648975",
     "status": "completed"
    },
    "tags": []
   },
   "source": [
    "# **Creating the dendrogram and heatmap :**"
   ]
  },
  {
   "cell_type": "code",
   "execution_count": 12,
   "id": "db33ece3",
   "metadata": {
    "execution": {
     "iopub.execute_input": "2022-03-21T15:38:02.710416Z",
     "iopub.status.busy": "2022-03-21T15:38:02.709829Z",
     "iopub.status.idle": "2022-03-21T15:38:03.259231Z",
     "shell.execute_reply": "2022-03-21T15:38:03.259717Z",
     "shell.execute_reply.started": "2022-03-21T15:35:52.222301Z"
    },
    "papermill": {
     "duration": 0.572118,
     "end_time": "2022-03-21T15:38:03.259880",
     "exception": false,
     "start_time": "2022-03-21T15:38:02.687762",
     "status": "completed"
    },
    "tags": []
   },
   "outputs": [
    {
     "data": {
      "text/plain": [
       "<seaborn.matrix.ClusterGrid at 0x7f23b902f810>"
      ]
     },
     "execution_count": 12,
     "metadata": {},
     "output_type": "execute_result"
    },
    {
     "data": {
      "image/png": "[encoded data removed]",
      "text/plain": [
       "<Figure size 720x720 with 4 Axes>"
      ]
     },
     "metadata": {},
     "output_type": "display_data"
    }
   ],
   "source": [
    "sns.clustermap(x_scaled,cmap = 'mako')"
   ]
  }
 ],
 "metadata": {
  "kernelspec": {
   "display_name": "Python 3",
   "language": "python",
   "name": "python3"
  },
  "language_info": {
   "codemirror_mode": {
    "name": "ipython",
    "version": 3
   },
   "file_extension": ".py",
   "mimetype": "text/x-python",
   "name": "python",
   "nbconvert_exporter": "python",
   "pygments_lexer": "ipython3",
   "version": "3.7.12"
  },
  "papermill": {
   "default_parameters": {},
   "duration": 13.964778,
   "end_time": "2022-03-21T15:38:04.092130",
   "environment_variables": {},
   "exception": null,
   "input_path": "__notebook__.ipynb",
   "output_path": "__notebook__.ipynb",
   "parameters": {},
   "start_time": "2022-03-21T15:37:50.127352",
   "version": "2.3.3"
  }
 },
 "nbformat": 4,
 "nbformat_minor": 5
}
