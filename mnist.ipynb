{
 "cells": [
  {
   "cell_type": "markdown",
   "id": "7c0c2632",
   "metadata": {
    "papermill": {
     "duration": 0.016509,
     "end_time": "2022-04-08T15:56:55.191098",
     "exception": false,
     "start_time": "2022-04-08T15:56:55.174589",
     "status": "completed"
    },
    "tags": []
   },
   "source": [
    "# **Import the relevant libraries :**"
   ]
  },
  {
   "cell_type": "code",
   "execution_count": 1,
   "id": "76cea80a",
   "metadata": {
    "execution": {
     "iopub.execute_input": "2022-04-08T15:56:55.229565Z",
     "iopub.status.busy": "2022-04-08T15:56:55.228179Z",
     "iopub.status.idle": "2022-04-08T15:57:01.914675Z",
     "shell.execute_reply": "2022-04-08T15:57:01.913666Z",
     "shell.execute_reply.started": "2022-04-08T15:56:08.311453Z"
    },
    "papermill": {
     "duration": 6.705323,
     "end_time": "2022-04-08T15:57:01.914847",
     "exception": false,
     "start_time": "2022-04-08T15:56:55.209524",
     "status": "completed"
    },
    "tags": []
   },
   "outputs": [],
   "source": [
    "import numpy as np\n",
    "import tensorflow as tf\n",
    "import tensorflow_datasets as tfds"
   ]
  },
  {
   "cell_type": "markdown",
   "id": "6a41106c",
   "metadata": {
    "papermill": {
     "duration": 0.015609,
     "end_time": "2022-04-08T15:57:01.946029",
     "exception": false,
     "start_time": "2022-04-08T15:57:01.930420",
     "status": "completed"
    },
    "tags": []
   },
   "source": [
    "# **Data :**"
   ]
  },
  {
   "cell_type": "code",
   "execution_count": 2,
   "id": "658ad48a",
   "metadata": {
    "execution": {
     "iopub.execute_input": "2022-04-08T15:57:01.986067Z",
     "iopub.status.busy": "2022-04-08T15:57:01.983480Z",
     "iopub.status.idle": "2022-04-08T15:57:07.463962Z",
     "shell.execute_reply": "2022-04-08T15:57:07.464991Z",
     "shell.execute_reply.started": "2022-04-08T15:56:08.318919Z"
    },
    "papermill": {
     "duration": 5.503413,
     "end_time": "2022-04-08T15:57:07.465347",
     "exception": false,
     "start_time": "2022-04-08T15:57:01.961934",
     "status": "completed"
    },
    "tags": []
   },
   "outputs": [
    {
     "name": "stderr",
     "output_type": "stream",
     "text": [
      "2022-04-08 15:57:02.737602: W tensorflow/core/platform/cloud/google_auth_provider.cc:184] All attempts to get a Google authentication bearer token failed, returning an empty token. Retrieving token from files failed with \"Not found: Could not locate the credentials file.\". Retrieving token from GCE failed with \"Failed precondition: Error executing an HTTP request: libcurl code 6 meaning 'Couldn't resolve host name', error details: Could not resolve host: metadata\".\n"
     ]
    },
    {
     "name": "stdout",
     "output_type": "stream",
     "text": [
      "\u001b[1mDownloading and preparing dataset 11.06 MiB (download: 11.06 MiB, generated: 21.00 MiB, total: 32.06 MiB) to /root/tensorflow_datasets/mnist/3.0.1...\u001b[0m\n"
     ]
    },
    {
     "data": {
      "application/vnd.jupyter.widget-view+json": {
       "model_id": "7b89a90a5e3647a084737641f72ccb6c",
       "version_major": 2,
       "version_minor": 0
      },
      "text/plain": [
       "Dl Completed...:   0%|          | 0/4 [00:00<?, ? file/s]"
      ]
     },
     "metadata": {},
     "output_type": "display_data"
    },
    {
     "name": "stdout",
     "output_type": "stream",
     "text": [
      "\u001b[1mDataset mnist downloaded and prepared to /root/tensorflow_datasets/mnist/3.0.1. Subsequent calls will reuse this data.\u001b[0m\n"
     ]
    },
    {
     "name": "stderr",
     "output_type": "stream",
     "text": [
      "2022-04-08 15:57:07.321502: I tensorflow/core/common_runtime/process_util.cc:146] Creating new thread pool with default inter op setting: 2. Tune using inter_op_parallelism_threads for best performance.\n"
     ]
    }
   ],
   "source": [
    "mnist_dataset,mnist_info= tfds.load(name = 'mnist',with_info = True, as_supervised = True)"
   ]
  },
  {
   "cell_type": "code",
   "execution_count": 3,
   "id": "b258d283",
   "metadata": {
    "execution": {
     "iopub.execute_input": "2022-04-08T15:57:07.506440Z",
     "iopub.status.busy": "2022-04-08T15:57:07.505380Z",
     "iopub.status.idle": "2022-04-08T15:57:07.578708Z",
     "shell.execute_reply": "2022-04-08T15:57:07.577968Z",
     "shell.execute_reply.started": "2022-04-08T15:56:08.406331Z"
    },
    "papermill": {
     "duration": 0.09495,
     "end_time": "2022-04-08T15:57:07.578862",
     "exception": false,
     "start_time": "2022-04-08T15:57:07.483912",
     "status": "completed"
    },
    "tags": []
   },
   "outputs": [],
   "source": [
    "mnist_train,mnist_test = mnist_dataset['train'],mnist_dataset['test']\n",
    "\n",
    "num_validation_samples = 0.1*mnist_info.splits['train'].num_examples\n",
    "\n",
    "num_validation_samples = tf.cast(num_validation_samples,tf.int64)\n",
    "\n",
    "num_test_samples = mnist_info.splits['test'].num_examples\n",
    "\n",
    "num_test_samples = tf.cast(num_test_samples,tf.int64)\n",
    "\n",
    "def scale(image,label):\n",
    "    image = tf.cast(image,tf.float32)\n",
    "    image /= 255.\n",
    "    return image, label\n",
    "\n",
    "scaled_train_and_validation_data = mnist_train.map(scale)\n",
    "\n",
    "test_data = mnist_test.map(scale)"
   ]
  },
  {
   "cell_type": "code",
   "execution_count": 4,
   "id": "f46c1100",
   "metadata": {
    "execution": {
     "iopub.execute_input": "2022-04-08T15:57:07.621064Z",
     "iopub.status.busy": "2022-04-08T15:57:07.620400Z",
     "iopub.status.idle": "2022-04-08T15:57:09.003506Z",
     "shell.execute_reply": "2022-04-08T15:57:09.002754Z",
     "shell.execute_reply.started": "2022-04-08T15:56:08.443466Z"
    },
    "papermill": {
     "duration": 1.407009,
     "end_time": "2022-04-08T15:57:09.003682",
     "exception": false,
     "start_time": "2022-04-08T15:57:07.596673",
     "status": "completed"
    },
    "tags": []
   },
   "outputs": [
    {
     "name": "stderr",
     "output_type": "stream",
     "text": [
      "2022-04-08 15:57:07.668562: I tensorflow/compiler/mlir/mlir_graph_optimization_pass.cc:185] None of the MLIR Optimization Passes are enabled (registered 2)\n",
      "2022-04-08 15:57:08.974550: W tensorflow/core/kernels/data/cache_dataset_ops.cc:768] The calling iterator did not fully read the dataset being cached. In order to avoid unexpected truncation of the dataset, the partially cached contents of the dataset  will be discarded. This can happen if you have an input pipeline similar to `dataset.cache().take(k).repeat()`. You should use `dataset.take(k).cache().repeat()` instead.\n"
     ]
    }
   ],
   "source": [
    "BUFFER_SIZE = 10000\n",
    "\n",
    "shuffled_train_and_validation_data = scaled_train_and_validation_data.shuffle(BUFFER_SIZE)\n",
    "\n",
    "validation_data = shuffled_train_and_validation_data.take(num_validation_samples)\n",
    "\n",
    "train_data = shuffled_train_and_validation_data.skip(num_validation_samples)\n",
    "\n",
    "\n",
    "BATCH_SIZE = 100\n",
    "\n",
    "train_data = train_data.batch(BATCH_SIZE)\n",
    "\n",
    "validation_data = validation_data.batch(num_validation_samples)\n",
    "\n",
    "test_data = test_data.batch(num_test_samples)\n",
    "\n",
    "validation_inputs,validation_targets = next(iter(validation_data))"
   ]
  },
  {
   "cell_type": "markdown",
   "id": "539af5bd",
   "metadata": {
    "papermill": {
     "duration": 0.017979,
     "end_time": "2022-04-08T15:57:09.041376",
     "exception": false,
     "start_time": "2022-04-08T15:57:09.023397",
     "status": "completed"
    },
    "tags": []
   },
   "source": [
    "# **Model :**"
   ]
  },
  {
   "cell_type": "markdown",
   "id": "7ebca6cc",
   "metadata": {
    "papermill": {
     "duration": 0.018063,
     "end_time": "2022-04-08T15:57:09.077640",
     "exception": false,
     "start_time": "2022-04-08T15:57:09.059577",
     "status": "completed"
    },
    "tags": []
   },
   "source": [
    "## **Outline the model :**"
   ]
  },
  {
   "cell_type": "code",
   "execution_count": 5,
   "id": "db7a68c2",
   "metadata": {
    "execution": {
     "iopub.execute_input": "2022-04-08T15:57:09.121988Z",
     "iopub.status.busy": "2022-04-08T15:57:09.121248Z",
     "iopub.status.idle": "2022-04-08T15:57:10.202778Z",
     "shell.execute_reply": "2022-04-08T15:57:10.203328Z",
     "shell.execute_reply.started": "2022-04-08T15:56:09.750925Z"
    },
    "papermill": {
     "duration": 1.107314,
     "end_time": "2022-04-08T15:57:10.203530",
     "exception": false,
     "start_time": "2022-04-08T15:57:09.096216",
     "status": "completed"
    },
    "tags": []
   },
   "outputs": [],
   "source": [
    "input_size = 784\n",
    "output_size = 10\n",
    "hidden_layer = 100\n",
    "\n",
    "model = tf.keras.Sequential ([\n",
    "    tf.keras.layers.Flatten(input_shape = (28,28,1)),\n",
    "    tf.keras.layers.Dense(hidden_layer,activation = 'relu'),\n",
    "    tf.keras.layers.Dense(hidden_layer,activation = 'relu'),\n",
    "    tf.keras.layers.Dense(output_size,activation = 'softmax')\n",
    "    ])"
   ]
  },
  {
   "cell_type": "markdown",
   "id": "9ae9eaa1",
   "metadata": {
    "papermill": {
     "duration": 0.018083,
     "end_time": "2022-04-08T15:57:10.241574",
     "exception": false,
     "start_time": "2022-04-08T15:57:10.223491",
     "status": "completed"
    },
    "tags": []
   },
   "source": [
    "## **Choose the optimizer and loss function :**"
   ]
  },
  {
   "cell_type": "code",
   "execution_count": 6,
   "id": "2e52c6f9",
   "metadata": {
    "execution": {
     "iopub.execute_input": "2022-04-08T15:57:10.282478Z",
     "iopub.status.busy": "2022-04-08T15:57:10.281384Z",
     "iopub.status.idle": "2022-04-08T15:57:10.298392Z",
     "shell.execute_reply": "2022-04-08T15:57:10.297782Z",
     "shell.execute_reply.started": "2022-04-08T15:56:09.792551Z"
    },
    "papermill": {
     "duration": 0.038249,
     "end_time": "2022-04-08T15:57:10.298567",
     "exception": false,
     "start_time": "2022-04-08T15:57:10.260318",
     "status": "completed"
    },
    "tags": []
   },
   "outputs": [],
   "source": [
    "model.compile(optimizer = 'adam', loss = 'sparse_categorical_crossentropy', metrics = ['accuracy'])"
   ]
  },
  {
   "cell_type": "markdown",
   "id": "443addfe",
   "metadata": {
    "papermill": {
     "duration": 0.019358,
     "end_time": "2022-04-08T15:57:10.336841",
     "exception": false,
     "start_time": "2022-04-08T15:57:10.317483",
     "status": "completed"
    },
    "tags": []
   },
   "source": [
    "# **Training :**"
   ]
  },
  {
   "cell_type": "code",
   "execution_count": 7,
   "id": "b8509ea3",
   "metadata": {
    "execution": {
     "iopub.execute_input": "2022-04-08T15:57:10.396875Z",
     "iopub.status.busy": "2022-04-08T15:57:10.394452Z",
     "iopub.status.idle": "2022-04-08T15:57:36.781782Z",
     "shell.execute_reply": "2022-04-08T15:57:36.782420Z"
    },
    "papermill": {
     "duration": 26.413388,
     "end_time": "2022-04-08T15:57:36.782613",
     "exception": false,
     "start_time": "2022-04-08T15:57:10.369225",
     "status": "completed"
    },
    "tags": []
   },
   "outputs": [
    {
     "name": "stdout",
     "output_type": "stream",
     "text": [
      "Epoch 1/5\n",
      "540/540 - 7s - loss: 0.3360 - accuracy: 0.9041 - val_loss: 0.1735 - val_accuracy: 0.9508\n",
      "Epoch 2/5\n",
      "540/540 - 4s - loss: 0.1422 - accuracy: 0.9584 - val_loss: 0.1244 - val_accuracy: 0.9635\n",
      "Epoch 3/5\n",
      "540/540 - 4s - loss: 0.0996 - accuracy: 0.9700 - val_loss: 0.0874 - val_accuracy: 0.9742\n",
      "Epoch 4/5\n",
      "540/540 - 4s - loss: 0.0768 - accuracy: 0.9768 - val_loss: 0.0746 - val_accuracy: 0.9757\n",
      "Epoch 5/5\n",
      "540/540 - 4s - loss: 0.0619 - accuracy: 0.9806 - val_loss: 0.0625 - val_accuracy: 0.9800\n"
     ]
    },
    {
     "data": {
      "text/plain": [
       "<keras.callbacks.History at 0x7f046e76ca50>"
      ]
     },
     "execution_count": 7,
     "metadata": {},
     "output_type": "execute_result"
    }
   ],
   "source": [
    "NUM_EPOCHS = 5\n",
    "\n",
    "model.fit(train_data,epochs = NUM_EPOCHS,validation_data = (validation_inputs,validation_targets), verbose = 2)"
   ]
  },
  {
   "cell_type": "markdown",
   "id": "0cc038e3",
   "metadata": {
    "papermill": {
     "duration": 0.022685,
     "end_time": "2022-04-08T15:57:36.828389",
     "exception": false,
     "start_time": "2022-04-08T15:57:36.805704",
     "status": "completed"
    },
    "tags": []
   },
   "source": [
    "# **Test the model :**"
   ]
  },
  {
   "cell_type": "code",
   "execution_count": 8,
   "id": "ce02ae2f",
   "metadata": {
    "execution": {
     "iopub.execute_input": "2022-04-08T15:57:36.878942Z",
     "iopub.status.busy": "2022-04-08T15:57:36.877924Z",
     "iopub.status.idle": "2022-04-08T15:57:37.788544Z",
     "shell.execute_reply": "2022-04-08T15:57:37.787911Z"
    },
    "papermill": {
     "duration": 0.936845,
     "end_time": "2022-04-08T15:57:37.788703",
     "exception": false,
     "start_time": "2022-04-08T15:57:36.851858",
     "status": "completed"
    },
    "tags": []
   },
   "outputs": [
    {
     "name": "stdout",
     "output_type": "stream",
     "text": [
      "1/1 [==============================] - 1s 895ms/step - loss: 0.0859 - accuracy: 0.9722\n"
     ]
    }
   ],
   "source": [
    "test_loss, test_accuracy = model.evaluate(test_data)"
   ]
  },
  {
   "cell_type": "code",
   "execution_count": 9,
   "id": "10b7c6a8",
   "metadata": {
    "execution": {
     "iopub.execute_input": "2022-04-08T15:57:37.843649Z",
     "iopub.status.busy": "2022-04-08T15:57:37.842566Z",
     "iopub.status.idle": "2022-04-08T15:57:37.848736Z",
     "shell.execute_reply": "2022-04-08T15:57:37.847804Z"
    },
    "papermill": {
     "duration": 0.03575,
     "end_time": "2022-04-08T15:57:37.848952",
     "exception": false,
     "start_time": "2022-04-08T15:57:37.813202",
     "status": "completed"
    },
    "tags": []
   },
   "outputs": [
    {
     "name": "stdout",
     "output_type": "stream",
     "text": [
      "Test loss: 0.09. Test accuracy: 97.22%\n"
     ]
    }
   ],
   "source": [
    "print('Test loss: {0:.2f}. Test accuracy: {1:.2f}%'.format(test_loss, test_accuracy*100.))"
   ]
  }
 ],
 "metadata": {
  "kernelspec": {
   "display_name": "Python 3",
   "language": "python",
   "name": "python3"
  },
  "language_info": {
   "codemirror_mode": {
    "name": "ipython",
    "version": 3
   },
   "file_extension": ".py",
   "mimetype": "text/x-python",
   "name": "python",
   "nbconvert_exporter": "python",
   "pygments_lexer": "ipython3",
   "version": "3.7.12"
  },
  "papermill": {
   "default_parameters": {},
   "duration": 56.716853,
   "end_time": "2022-04-08T15:57:41.037310",
   "environment_variables": {},
   "exception": null,
   "input_path": "__notebook__.ipynb",
   "output_path": "__notebook__.ipynb",
   "parameters": {},
   "start_time": "2022-04-08T15:56:44.320457",
   "version": "2.3.3"
  },
  "widgets": {
   "application/vnd.jupyter.widget-state+json": {
    "state": {
     "049b0fb5ae344475ba5c9b9442c9e740": {
      "model_module": "@jupyter-widgets/base",
      "model_module_version": "1.2.0",
      "model_name": "LayoutModel",
      "state": {
       "_model_module": "@jupyter-widgets/base",
       "_model_module_version": "1.2.0",
       "_model_name": "LayoutModel",
       "_view_count": null,
       "_view_module": "@jupyter-widgets/base",
       "_view_module_version": "1.2.0",
       "_view_name": "LayoutView",
       "align_content": null,
       "align_items": null,
       "align_self": null,
       "border": null,
       "bottom": null,
       "display": null,
       "flex": null,
       "flex_flow": null,
       "grid_area": null,
       "grid_auto_columns": null,
       "grid_auto_flow": null,
       "grid_auto_rows": null,
       "grid_column": null,
       "grid_gap": null,
       "grid_row": null,
       "grid_template_areas": null,
       "grid_template_columns": null,
       "grid_template_rows": null,
       "height": null,
       "justify_content": null,
       "justify_items": null,
       "left": null,
       "margin": null,
       "max_height": null,
       "max_width": null,
       "min_height": null,
       "min_width": null,
       "object_fit": null,
       "object_position": null,
       "order": null,
       "overflow": null,
       "overflow_x": null,
       "overflow_y": null,
       "padding": null,
       "right": null,
       "top": null,
       "visibility": null,
       "width": null
      }
     },
     "0ab1139f398e4d17b5bd37e75c0b905f": {
      "model_module": "@jupyter-widgets/controls",
      "model_module_version": "1.5.0",
      "model_name": "DescriptionStyleModel",
      "state": {
       "_model_module": "@jupyter-widgets/controls",
       "_model_module_version": "1.5.0",
       "_model_name": "DescriptionStyleModel",
       "_view_count": null,
       "_view_module": "@jupyter-widgets/base",
       "_view_module_version": "1.2.0",
       "_view_name": "StyleView",
       "description_width": ""
      }
     },
     "2890692943a644eda825e137408c4c6c": {
      "model_module": "@jupyter-widgets/base",
      "model_module_version": "1.2.0",
      "model_name": "LayoutModel",
      "state": {
       "_model_module": "@jupyter-widgets/base",
       "_model_module_version": "1.2.0",
       "_model_name": "LayoutModel",
       "_view_count": null,
       "_view_module": "@jupyter-widgets/base",
       "_view_module_version": "1.2.0",
       "_view_name": "LayoutView",
       "align_content": null,
       "align_items": null,
       "align_self": null,
       "border": null,
       "bottom": null,
       "display": null,
       "flex": null,
       "flex_flow": null,
       "grid_area": null,
       "grid_auto_columns": null,
       "grid_auto_flow": null,
       "grid_auto_rows": null,
       "grid_column": null,
       "grid_gap": null,
       "grid_row": null,
       "grid_template_areas": null,
       "grid_template_columns": null,
       "grid_template_rows": null,
       "height": null,
       "justify_content": null,
       "justify_items": null,
       "left": null,
       "margin": null,
       "max_height": null,
       "max_width": null,
       "min_height": null,
       "min_width": null,
       "object_fit": null,
       "object_position": null,
       "order": null,
       "overflow": null,
       "overflow_x": null,
       "overflow_y": null,
       "padding": null,
       "right": null,
       "top": null,
       "visibility": null,
       "width": null
      }
     },
     "7b89a90a5e3647a084737641f72ccb6c": {
      "model_module": "@jupyter-widgets/controls",
      "model_module_version": "1.5.0",
      "model_name": "HBoxModel",
      "state": {
       "_dom_classes": [],
       "_model_module": "@jupyter-widgets/controls",
       "_model_module_version": "1.5.0",
       "_model_name": "HBoxModel",
       "_view_count": null,
       "_view_module": "@jupyter-widgets/controls",
       "_view_module_version": "1.5.0",
       "_view_name": "HBoxView",
       "box_style": "",
       "children": [
        "IPY_MODEL_d790dd98bde44866a816279ac77ae7ba",
        "IPY_MODEL_a46086078e184ffbb65d77c869db0ea3",
        "IPY_MODEL_ae78e19ea0eb4879b972db7e470514c8"
       ],
       "layout": "IPY_MODEL_049b0fb5ae344475ba5c9b9442c9e740"
      }
     },
     "a46086078e184ffbb65d77c869db0ea3": {
      "model_module": "@jupyter-widgets/controls",
      "model_module_version": "1.5.0",
      "model_name": "FloatProgressModel",
      "state": {
       "_dom_classes": [],
       "_model_module": "@jupyter-widgets/controls",
       "_model_module_version": "1.5.0",
       "_model_name": "FloatProgressModel",
       "_view_count": null,
       "_view_module": "@jupyter-widgets/controls",
       "_view_module_version": "1.5.0",
       "_view_name": "ProgressView",
       "bar_style": "success",
       "description": "",
       "description_tooltip": null,
       "layout": "IPY_MODEL_f41b45256a3f40a8894664ee5df63aad",
       "max": 4.0,
       "min": 0.0,
       "orientation": "horizontal",
       "style": "IPY_MODEL_c18f2253f311438e9724284c3df5f478",
       "value": 4.0
      }
     },
     "ae78e19ea0eb4879b972db7e470514c8": {
      "model_module": "@jupyter-widgets/controls",
      "model_module_version": "1.5.0",
      "model_name": "HTMLModel",
      "state": {
       "_dom_classes": [],
       "_model_module": "@jupyter-widgets/controls",
       "_model_module_version": "1.5.0",
       "_model_name": "HTMLModel",
       "_view_count": null,
       "_view_module": "@jupyter-widgets/controls",
       "_view_module_version": "1.5.0",
       "_view_name": "HTMLView",
       "description": "",
       "description_tooltip": null,
       "layout": "IPY_MODEL_2890692943a644eda825e137408c4c6c",
       "placeholder": "​",
       "style": "IPY_MODEL_0ab1139f398e4d17b5bd37e75c0b905f",
       "value": " 4/4 [00:00&lt;00:00,  5.62 file/s]"
      }
     },
     "b1c0f4e57f664063a6519f5f4a22bf6d": {
      "model_module": "@jupyter-widgets/base",
      "model_module_version": "1.2.0",
      "model_name": "LayoutModel",
      "state": {
       "_model_module": "@jupyter-widgets/base",
       "_model_module_version": "1.2.0",
       "_model_name": "LayoutModel",
       "_view_count": null,
       "_view_module": "@jupyter-widgets/base",
       "_view_module_version": "1.2.0",
       "_view_name": "LayoutView",
       "align_content": null,
       "align_items": null,
       "align_self": null,
       "border": null,
       "bottom": null,
       "display": null,
       "flex": null,
       "flex_flow": null,
       "grid_area": null,
       "grid_auto_columns": null,
       "grid_auto_flow": null,
       "grid_auto_rows": null,
       "grid_column": null,
       "grid_gap": null,
       "grid_row": null,
       "grid_template_areas": null,
       "grid_template_columns": null,
       "grid_template_rows": null,
       "height": null,
       "justify_content": null,
       "justify_items": null,
       "left": null,
       "margin": null,
       "max_height": null,
       "max_width": null,
       "min_height": null,
       "min_width": null,
       "object_fit": null,
       "object_position": null,
       "order": null,
       "overflow": null,
       "overflow_x": null,
       "overflow_y": null,
       "padding": null,
       "right": null,
       "top": null,
       "visibility": null,
       "width": null
      }
     },
     "c18f2253f311438e9724284c3df5f478": {
      "model_module": "@jupyter-widgets/controls",
      "model_module_version": "1.5.0",
      "model_name": "ProgressStyleModel",
      "state": {
       "_model_module": "@jupyter-widgets/controls",
       "_model_module_version": "1.5.0",
       "_model_name": "ProgressStyleModel",
       "_view_count": null,
       "_view_module": "@jupyter-widgets/base",
       "_view_module_version": "1.2.0",
       "_view_name": "StyleView",
       "bar_color": null,
       "description_width": ""
      }
     },
     "d790dd98bde44866a816279ac77ae7ba": {
      "model_module": "@jupyter-widgets/controls",
      "model_module_version": "1.5.0",
      "model_name": "HTMLModel",
      "state": {
       "_dom_classes": [],
       "_model_module": "@jupyter-widgets/controls",
       "_model_module_version": "1.5.0",
       "_model_name": "HTMLModel",
       "_view_count": null,
       "_view_module": "@jupyter-widgets/controls",
       "_view_module_version": "1.5.0",
       "_view_name": "HTMLView",
       "description": "",
       "description_tooltip": null,
       "layout": "IPY_MODEL_b1c0f4e57f664063a6519f5f4a22bf6d",
       "placeholder": "​",
       "style": "IPY_MODEL_d8105433e1864e639341f3307b458875",
       "value": "Dl Completed...: 100%"
      }
     },
     "d8105433e1864e639341f3307b458875": {
      "model_module": "@jupyter-widgets/controls",
      "model_module_version": "1.5.0",
      "model_name": "DescriptionStyleModel",
      "state": {
       "_model_module": "@jupyter-widgets/controls",
       "_model_module_version": "1.5.0",
       "_model_name": "DescriptionStyleModel",
       "_view_count": null,
       "_view_module": "@jupyter-widgets/base",
       "_view_module_version": "1.2.0",
       "_view_name": "StyleView",
       "description_width": ""
      }
     },
     "f41b45256a3f40a8894664ee5df63aad": {
      "model_module": "@jupyter-widgets/base",
      "model_module_version": "1.2.0",
      "model_name": "LayoutModel",
      "state": {
       "_model_module": "@jupyter-widgets/base",
       "_model_module_version": "1.2.0",
       "_model_name": "LayoutModel",
       "_view_count": null,
       "_view_module": "@jupyter-widgets/base",
       "_view_module_version": "1.2.0",
       "_view_name": "LayoutView",
       "align_content": null,
       "align_items": null,
       "align_self": null,
       "border": null,
       "bottom": null,
       "display": null,
       "flex": null,
       "flex_flow": null,
       "grid_area": null,
       "grid_auto_columns": null,
       "grid_auto_flow": null,
       "grid_auto_rows": null,
       "grid_column": null,
       "grid_gap": null,
       "grid_row": null,
       "grid_template_areas": null,
       "grid_template_columns": null,
       "grid_template_rows": null,
       "height": null,
       "justify_content": null,
       "justify_items": null,
       "left": null,
       "margin": null,
       "max_height": null,
       "max_width": null,
       "min_height": null,
       "min_width": null,
       "object_fit": null,
       "object_position": null,
       "order": null,
       "overflow": null,
       "overflow_x": null,
       "overflow_y": null,
       "padding": null,
       "right": null,
       "top": null,
       "visibility": null,
       "width": null
      }
     }
    },
    "version_major": 2,
    "version_minor": 0
   }
  }
 },
 "nbformat": 4,
 "nbformat_minor": 5
}
