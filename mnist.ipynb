{
 "cells": [
  {
   "cell_type": "markdown",
   "id": "1324b29a",
   "metadata": {
    "papermill": {
     "duration": 0.01569,
     "end_time": "2022-04-08T15:56:18.051357",
     "exception": false,
     "start_time": "2022-04-08T15:56:18.035667",
     "status": "completed"
    },
    "tags": []
   },
   "source": [
    "# **Import the relevant libraries :**"
   ]
  },
  {
   "cell_type": "code",
   "execution_count": 1,
   "id": "e6bf701c",
   "metadata": {
    "execution": {
     "iopub.execute_input": "2022-04-08T15:56:18.090735Z",
     "iopub.status.busy": "2022-04-08T15:56:18.090096Z",
     "iopub.status.idle": "2022-04-08T15:56:24.870885Z",
     "shell.execute_reply": "2022-04-08T15:56:24.870062Z",
     "shell.execute_reply.started": "2022-04-08T15:52:47.855826Z"
    },
    "papermill": {
     "duration": 6.804711,
     "end_time": "2022-04-08T15:56:24.871083",
     "exception": false,
     "start_time": "2022-04-08T15:56:18.066372",
     "status": "completed"
    },
    "tags": []
   },
   "outputs": [],
   "source": [
    "import numpy as np\n",
    "import tensorflow as tf\n",
    "import tensorflow_datasets as tfds"
   ]
  },
  {
   "cell_type": "markdown",
   "id": "13957dcd",
   "metadata": {
    "papermill": {
     "duration": 0.014375,
     "end_time": "2022-04-08T15:56:24.900243",
     "exception": false,
     "start_time": "2022-04-08T15:56:24.885868",
     "status": "completed"
    },
    "tags": []
   },
   "source": [
    "# **Data :**"
   ]
  },
  {
   "cell_type": "code",
   "execution_count": 2,
   "id": "871cdbce",
   "metadata": {
    "execution": {
     "iopub.execute_input": "2022-04-08T15:56:24.935719Z",
     "iopub.status.busy": "2022-04-08T15:56:24.935043Z",
     "iopub.status.idle": "2022-04-08T15:56:29.626487Z",
     "shell.execute_reply": "2022-04-08T15:56:29.627217Z",
     "shell.execute_reply.started": "2022-04-08T15:52:47.866949Z"
    },
    "papermill": {
     "duration": 4.711754,
     "end_time": "2022-04-08T15:56:29.627446",
     "exception": false,
     "start_time": "2022-04-08T15:56:24.915692",
     "status": "completed"
    },
    "tags": []
   },
   "outputs": [
    {
     "name": "stderr",
     "output_type": "stream",
     "text": [
      "2022-04-08 15:56:25.325299: W tensorflow/core/platform/cloud/google_auth_provider.cc:184] All attempts to get a Google authentication bearer token failed, returning an empty token. Retrieving token from files failed with \"Not found: Could not locate the credentials file.\". Retrieving token from GCE failed with \"Failed precondition: Error executing an HTTP request: libcurl code 6 meaning 'Couldn't resolve host name', error details: Could not resolve host: metadata\".\n"
     ]
    },
    {
     "name": "stdout",
     "output_type": "stream",
     "text": [
      "\u001b[1mDownloading and preparing dataset 11.06 MiB (download: 11.06 MiB, generated: 21.00 MiB, total: 32.06 MiB) to /root/tensorflow_datasets/mnist/3.0.1...\u001b[0m\n"
     ]
    },
    {
     "data": {
      "application/vnd.jupyter.widget-view+json": {
       "model_id": "c58ca929530b4e0d9955b9729bc2eec5",
       "version_major": 2,
       "version_minor": 0
      },
      "text/plain": [
       "Dl Completed...:   0%|          | 0/4 [00:00<?, ? file/s]"
      ]
     },
     "metadata": {},
     "output_type": "display_data"
    },
    {
     "name": "stdout",
     "output_type": "stream",
     "text": [
      "\u001b[1mDataset mnist downloaded and prepared to /root/tensorflow_datasets/mnist/3.0.1. Subsequent calls will reuse this data.\u001b[0m\n"
     ]
    },
    {
     "name": "stderr",
     "output_type": "stream",
     "text": [
      "2022-04-08 15:56:29.490111: I tensorflow/core/common_runtime/process_util.cc:146] Creating new thread pool with default inter op setting: 2. Tune using inter_op_parallelism_threads for best performance.\n"
     ]
    }
   ],
   "source": [
    "mnist_dataset,mnist_info= tfds.load(name = 'mnist',with_info = True, as_supervised = True)"
   ]
  },
  {
   "cell_type": "code",
   "execution_count": 3,
   "id": "d8054e52",
   "metadata": {
    "execution": {
     "iopub.execute_input": "2022-04-08T15:56:29.670292Z",
     "iopub.status.busy": "2022-04-08T15:56:29.669501Z",
     "iopub.status.idle": "2022-04-08T15:56:29.737103Z",
     "shell.execute_reply": "2022-04-08T15:56:29.736496Z",
     "shell.execute_reply.started": "2022-04-08T15:52:47.954521Z"
    },
    "papermill": {
     "duration": 0.091675,
     "end_time": "2022-04-08T15:56:29.737248",
     "exception": false,
     "start_time": "2022-04-08T15:56:29.645573",
     "status": "completed"
    },
    "tags": []
   },
   "outputs": [],
   "source": [
    "mnist_train,mnist_test = mnist_dataset['train'],mnist_dataset['test']\n",
    "\n",
    "num_validation_samples = 0.1*mnist_info.splits['train'].num_examples\n",
    "\n",
    "num_validation_samples = tf.cast(num_validation_samples,tf.int64)\n",
    "\n",
    "num_test_samples = mnist_info.splits['test'].num_examples\n",
    "\n",
    "num_test_samples = tf.cast(num_test_samples,tf.int64)\n",
    "\n",
    "def scale(image,label):\n",
    "    image = tf.cast(image,tf.float32)\n",
    "    image /= 255.\n",
    "    return image, label\n",
    "\n",
    "scaled_train_and_validation_data = mnist_train.map(scale)\n",
    "\n",
    "test_data = mnist_test.map(scale)"
   ]
  },
  {
   "cell_type": "code",
   "execution_count": 4,
   "id": "4594e5a7",
   "metadata": {
    "execution": {
     "iopub.execute_input": "2022-04-08T15:56:29.777384Z",
     "iopub.status.busy": "2022-04-08T15:56:29.776652Z",
     "iopub.status.idle": "2022-04-08T15:56:31.135308Z",
     "shell.execute_reply": "2022-04-08T15:56:31.135831Z",
     "shell.execute_reply.started": "2022-04-08T15:52:48.026793Z"
    },
    "papermill": {
     "duration": 1.381937,
     "end_time": "2022-04-08T15:56:31.136032",
     "exception": false,
     "start_time": "2022-04-08T15:56:29.754095",
     "status": "completed"
    },
    "tags": []
   },
   "outputs": [
    {
     "name": "stderr",
     "output_type": "stream",
     "text": [
      "2022-04-08 15:56:29.822842: I tensorflow/compiler/mlir/mlir_graph_optimization_pass.cc:185] None of the MLIR Optimization Passes are enabled (registered 2)\n",
      "2022-04-08 15:56:31.106703: W tensorflow/core/kernels/data/cache_dataset_ops.cc:768] The calling iterator did not fully read the dataset being cached. In order to avoid unexpected truncation of the dataset, the partially cached contents of the dataset  will be discarded. This can happen if you have an input pipeline similar to `dataset.cache().take(k).repeat()`. You should use `dataset.take(k).cache().repeat()` instead.\n"
     ]
    }
   ],
   "source": [
    "BUFFER_SIZE = 10000\n",
    "\n",
    "shuffled_train_and_validation_data = scaled_train_and_validation_data.shuffle(BUFFER_SIZE)\n",
    "\n",
    "validation_data = shuffled_train_and_validation_data.take(num_validation_samples)\n",
    "\n",
    "train_data = shuffled_train_and_validation_data.skip(num_validation_samples)\n",
    "\n",
    "\n",
    "BATCH_SIZE = 100\n",
    "\n",
    "train_data = train_data.batch(BATCH_SIZE)\n",
    "\n",
    "validation_data = validation_data.batch(num_validation_samples)\n",
    "\n",
    "test_data = test_data.batch(num_test_samples)\n",
    "\n",
    "validation_inputs,validation_targets = next(iter(validation_data))"
   ]
  },
  {
   "cell_type": "markdown",
   "id": "358e6de4",
   "metadata": {
    "papermill": {
     "duration": 0.016765,
     "end_time": "2022-04-08T15:56:31.170561",
     "exception": false,
     "start_time": "2022-04-08T15:56:31.153796",
     "status": "completed"
    },
    "tags": []
   },
   "source": [
    "# **Model :**"
   ]
  },
  {
   "cell_type": "markdown",
   "id": "50862d55",
   "metadata": {
    "papermill": {
     "duration": 0.016872,
     "end_time": "2022-04-08T15:56:31.204690",
     "exception": false,
     "start_time": "2022-04-08T15:56:31.187818",
     "status": "completed"
    },
    "tags": []
   },
   "source": [
    "## **Outline the model :**"
   ]
  },
  {
   "cell_type": "code",
   "execution_count": 5,
   "id": "fe7212d2",
   "metadata": {
    "execution": {
     "iopub.execute_input": "2022-04-08T15:56:31.246352Z",
     "iopub.status.busy": "2022-04-08T15:56:31.241975Z",
     "iopub.status.idle": "2022-04-08T15:56:32.393850Z",
     "shell.execute_reply": "2022-04-08T15:56:32.393101Z",
     "shell.execute_reply.started": "2022-04-08T15:52:49.335756Z"
    },
    "papermill": {
     "duration": 1.171662,
     "end_time": "2022-04-08T15:56:32.394060",
     "exception": false,
     "start_time": "2022-04-08T15:56:31.222398",
     "status": "completed"
    },
    "tags": []
   },
   "outputs": [],
   "source": [
    "input_size = 784\n",
    "output_size = 10\n",
    "hidden_layer = 100\n",
    "\n",
    "model = tf.keras.Sequential ([\n",
    "    tf.keras.layers.Flatten(input_shape = (28,28,1)),\n",
    "    tf.keras.layers.Dense(hidden_layer,activation = 'relu'),\n",
    "    tf.keras.layers.Dense(hidden_layer,activation = 'relu'),\n",
    "    tf.keras.layers.Dense(output_size,activation = 'softmax')\n",
    "    ])"
   ]
  },
  {
   "cell_type": "markdown",
   "id": "e961f3d1",
   "metadata": {
    "papermill": {
     "duration": 0.017217,
     "end_time": "2022-04-08T15:56:32.429941",
     "exception": false,
     "start_time": "2022-04-08T15:56:32.412724",
     "status": "completed"
    },
    "tags": []
   },
   "source": [
    "## **Choose the optimizer and loss function :**"
   ]
  },
  {
   "cell_type": "code",
   "execution_count": 6,
   "id": "86540d7a",
   "metadata": {
    "execution": {
     "iopub.execute_input": "2022-04-08T15:56:32.471204Z",
     "iopub.status.busy": "2022-04-08T15:56:32.470532Z",
     "iopub.status.idle": "2022-04-08T15:56:32.666977Z",
     "shell.execute_reply": "2022-04-08T15:56:32.667518Z",
     "shell.execute_reply.started": "2022-04-08T15:52:49.377953Z"
    },
    "papermill": {
     "duration": 0.220317,
     "end_time": "2022-04-08T15:56:32.667695",
     "exception": false,
     "start_time": "2022-04-08T15:56:32.447378",
     "status": "completed"
    },
    "tags": []
   },
   "outputs": [],
   "source": [
    "model.compile(optimizer = 'adam', loss = 'sparse_categorical_crossentropy', metrics = ['accuracy'])"
   ]
  },
  {
   "cell_type": "markdown",
   "id": "2eaf7161",
   "metadata": {
    "papermill": {
     "duration": 0.017001,
     "end_time": "2022-04-08T15:56:32.701888",
     "exception": false,
     "start_time": "2022-04-08T15:56:32.684887",
     "status": "completed"
    },
    "tags": []
   },
   "source": [
    "# **Training :**"
   ]
  },
  {
   "cell_type": "code",
   "execution_count": 7,
   "id": "08a418bc",
   "metadata": {
    "execution": {
     "iopub.execute_input": "2022-04-08T15:56:32.740184Z",
     "iopub.status.busy": "2022-04-08T15:56:32.739499Z",
     "iopub.status.idle": "2022-04-08T15:57:00.597788Z",
     "shell.execute_reply": "2022-04-08T15:57:00.597160Z",
     "shell.execute_reply.started": "2022-04-08T15:52:49.389647Z"
    },
    "papermill": {
     "duration": 27.878902,
     "end_time": "2022-04-08T15:57:00.597961",
     "exception": false,
     "start_time": "2022-04-08T15:56:32.719059",
     "status": "completed"
    },
    "tags": []
   },
   "outputs": [
    {
     "name": "stdout",
     "output_type": "stream",
     "text": [
      "Epoch 1/5\n",
      "540/540 - 6s - loss: 0.3290 - accuracy: 0.9058 - val_loss: 0.1572 - val_accuracy: 0.9530\n",
      "Epoch 2/5\n",
      "540/540 - 4s - loss: 0.1370 - accuracy: 0.9602 - val_loss: 0.1203 - val_accuracy: 0.9655\n",
      "Epoch 3/5\n",
      "540/540 - 4s - loss: 0.0981 - accuracy: 0.9706 - val_loss: 0.0885 - val_accuracy: 0.9732\n",
      "Epoch 4/5\n",
      "540/540 - 4s - loss: 0.0771 - accuracy: 0.9765 - val_loss: 0.0696 - val_accuracy: 0.9800\n",
      "Epoch 5/5\n",
      "540/540 - 4s - loss: 0.0585 - accuracy: 0.9817 - val_loss: 0.0562 - val_accuracy: 0.9842\n"
     ]
    },
    {
     "data": {
      "text/plain": [
       "<keras.callbacks.History at 0x7fec500af950>"
      ]
     },
     "execution_count": 7,
     "metadata": {},
     "output_type": "execute_result"
    }
   ],
   "source": [
    "NUM_EPOCHS = 5\n",
    "\n",
    "model.fit(train_data,epochs = NUM_EPOCHS,validation_data = (validation_inputs,validation_targets), verbose = 2)"
   ]
  },
  {
   "cell_type": "markdown",
   "id": "d83f5b34",
   "metadata": {
    "papermill": {
     "duration": 0.022039,
     "end_time": "2022-04-08T15:57:00.643246",
     "exception": false,
     "start_time": "2022-04-08T15:57:00.621207",
     "status": "completed"
    },
    "tags": []
   },
   "source": [
    "# **Test the model :**"
   ]
  },
  {
   "cell_type": "code",
   "execution_count": 8,
   "id": "5f5a53f3",
   "metadata": {
    "execution": {
     "iopub.execute_input": "2022-04-08T15:57:00.695110Z",
     "iopub.status.busy": "2022-04-08T15:57:00.694435Z",
     "iopub.status.idle": "2022-04-08T15:57:01.431510Z",
     "shell.execute_reply": "2022-04-08T15:57:01.432234Z",
     "shell.execute_reply.started": "2022-04-08T15:53:11.631947Z"
    },
    "papermill": {
     "duration": 0.764884,
     "end_time": "2022-04-08T15:57:01.432418",
     "exception": false,
     "start_time": "2022-04-08T15:57:00.667534",
     "status": "completed"
    },
    "tags": []
   },
   "outputs": [
    {
     "name": "stdout",
     "output_type": "stream",
     "text": [
      "1/1 [==============================] - 1s 726ms/step - loss: 0.0799 - accuracy: 0.9766\n"
     ]
    }
   ],
   "source": [
    "test_loss, test_accuracy = model.evaluate(test_data)"
   ]
  },
  {
   "cell_type": "code",
   "execution_count": 9,
   "id": "8dd75036",
   "metadata": {
    "execution": {
     "iopub.execute_input": "2022-04-08T15:57:01.481842Z",
     "iopub.status.busy": "2022-04-08T15:57:01.479563Z",
     "iopub.status.idle": "2022-04-08T15:57:01.485681Z",
     "shell.execute_reply": "2022-04-08T15:57:01.485119Z",
     "shell.execute_reply.started": "2022-04-08T15:53:57.098502Z"
    },
    "papermill": {
     "duration": 0.031248,
     "end_time": "2022-04-08T15:57:01.485844",
     "exception": false,
     "start_time": "2022-04-08T15:57:01.454596",
     "status": "completed"
    },
    "tags": []
   },
   "outputs": [
    {
     "name": "stdout",
     "output_type": "stream",
     "text": [
      "Test loss: 0.08. Test accuracy: 97.66%\n"
     ]
    }
   ],
   "source": [
    "print('Test loss: {0:.2f}. Test accuracy: {1:.2f}%'.format(test_loss, test_accuracy*100.))"
   ]
  }
 ],
 "metadata": {
  "kernelspec": {
   "display_name": "Python 3",
   "language": "python",
   "name": "python3"
  },
  "language_info": {
   "codemirror_mode": {
    "name": "ipython",
    "version": 3
   },
   "file_extension": ".py",
   "mimetype": "text/x-python",
   "name": "python",
   "nbconvert_exporter": "python",
   "pygments_lexer": "ipython3",
   "version": "3.7.12"
  },
  "papermill": {
   "default_parameters": {},
   "duration": 56.742832,
   "end_time": "2022-04-08T15:57:04.348800",
   "environment_variables": {},
   "exception": null,
   "input_path": "__notebook__.ipynb",
   "output_path": "__notebook__.ipynb",
   "parameters": {},
   "start_time": "2022-04-08T15:56:07.605968",
   "version": "2.3.3"
  },
  "widgets": {
   "application/vnd.jupyter.widget-state+json": {
    "state": {
     "027aab9778c740bb83a4464be31c3320": {
      "model_module": "@jupyter-widgets/controls",
      "model_module_version": "1.5.0",
      "model_name": "ProgressStyleModel",
      "state": {
       "_model_module": "@jupyter-widgets/controls",
       "_model_module_version": "1.5.0",
       "_model_name": "ProgressStyleModel",
       "_view_count": null,
       "_view_module": "@jupyter-widgets/base",
       "_view_module_version": "1.2.0",
       "_view_name": "StyleView",
       "bar_color": null,
       "description_width": ""
      }
     },
     "03ba10837d6f4b16ab3bdc6ecc03aef3": {
      "model_module": "@jupyter-widgets/controls",
      "model_module_version": "1.5.0",
      "model_name": "DescriptionStyleModel",
      "state": {
       "_model_module": "@jupyter-widgets/controls",
       "_model_module_version": "1.5.0",
       "_model_name": "DescriptionStyleModel",
       "_view_count": null,
       "_view_module": "@jupyter-widgets/base",
       "_view_module_version": "1.2.0",
       "_view_name": "StyleView",
       "description_width": ""
      }
     },
     "17eb29af067b4819887ddcb53c23754b": {
      "model_module": "@jupyter-widgets/base",
      "model_module_version": "1.2.0",
      "model_name": "LayoutModel",
      "state": {
       "_model_module": "@jupyter-widgets/base",
       "_model_module_version": "1.2.0",
       "_model_name": "LayoutModel",
       "_view_count": null,
       "_view_module": "@jupyter-widgets/base",
       "_view_module_version": "1.2.0",
       "_view_name": "LayoutView",
       "align_content": null,
       "align_items": null,
       "align_self": null,
       "border": null,
       "bottom": null,
       "display": null,
       "flex": null,
       "flex_flow": null,
       "grid_area": null,
       "grid_auto_columns": null,
       "grid_auto_flow": null,
       "grid_auto_rows": null,
       "grid_column": null,
       "grid_gap": null,
       "grid_row": null,
       "grid_template_areas": null,
       "grid_template_columns": null,
       "grid_template_rows": null,
       "height": null,
       "justify_content": null,
       "justify_items": null,
       "left": null,
       "margin": null,
       "max_height": null,
       "max_width": null,
       "min_height": null,
       "min_width": null,
       "object_fit": null,
       "object_position": null,
       "order": null,
       "overflow": null,
       "overflow_x": null,
       "overflow_y": null,
       "padding": null,
       "right": null,
       "top": null,
       "visibility": null,
       "width": null
      }
     },
     "2f309e59c3e04203b866fa4f0a31b522": {
      "model_module": "@jupyter-widgets/base",
      "model_module_version": "1.2.0",
      "model_name": "LayoutModel",
      "state": {
       "_model_module": "@jupyter-widgets/base",
       "_model_module_version": "1.2.0",
       "_model_name": "LayoutModel",
       "_view_count": null,
       "_view_module": "@jupyter-widgets/base",
       "_view_module_version": "1.2.0",
       "_view_name": "LayoutView",
       "align_content": null,
       "align_items": null,
       "align_self": null,
       "border": null,
       "bottom": null,
       "display": null,
       "flex": null,
       "flex_flow": null,
       "grid_area": null,
       "grid_auto_columns": null,
       "grid_auto_flow": null,
       "grid_auto_rows": null,
       "grid_column": null,
       "grid_gap": null,
       "grid_row": null,
       "grid_template_areas": null,
       "grid_template_columns": null,
       "grid_template_rows": null,
       "height": null,
       "justify_content": null,
       "justify_items": null,
       "left": null,
       "margin": null,
       "max_height": null,
       "max_width": null,
       "min_height": null,
       "min_width": null,
       "object_fit": null,
       "object_position": null,
       "order": null,
       "overflow": null,
       "overflow_x": null,
       "overflow_y": null,
       "padding": null,
       "right": null,
       "top": null,
       "visibility": null,
       "width": null
      }
     },
     "4a71f0e601b6402c9a84b4b3a6357d8a": {
      "model_module": "@jupyter-widgets/controls",
      "model_module_version": "1.5.0",
      "model_name": "HTMLModel",
      "state": {
       "_dom_classes": [],
       "_model_module": "@jupyter-widgets/controls",
       "_model_module_version": "1.5.0",
       "_model_name": "HTMLModel",
       "_view_count": null,
       "_view_module": "@jupyter-widgets/controls",
       "_view_module_version": "1.5.0",
       "_view_name": "HTMLView",
       "description": "",
       "description_tooltip": null,
       "layout": "IPY_MODEL_f72f058d15e64867b9287992176353a6",
       "placeholder": "​",
       "style": "IPY_MODEL_9c2c06f944c94720a3b9e3b692d76d01",
       "value": " 4/4 [00:01&lt;00:00,  2.61 file/s]"
      }
     },
     "4ac2cd78785941a8b523038ddd5d2b2e": {
      "model_module": "@jupyter-widgets/controls",
      "model_module_version": "1.5.0",
      "model_name": "FloatProgressModel",
      "state": {
       "_dom_classes": [],
       "_model_module": "@jupyter-widgets/controls",
       "_model_module_version": "1.5.0",
       "_model_name": "FloatProgressModel",
       "_view_count": null,
       "_view_module": "@jupyter-widgets/controls",
       "_view_module_version": "1.5.0",
       "_view_name": "ProgressView",
       "bar_style": "success",
       "description": "",
       "description_tooltip": null,
       "layout": "IPY_MODEL_2f309e59c3e04203b866fa4f0a31b522",
       "max": 4.0,
       "min": 0.0,
       "orientation": "horizontal",
       "style": "IPY_MODEL_027aab9778c740bb83a4464be31c3320",
       "value": 4.0
      }
     },
     "9c2c06f944c94720a3b9e3b692d76d01": {
      "model_module": "@jupyter-widgets/controls",
      "model_module_version": "1.5.0",
      "model_name": "DescriptionStyleModel",
      "state": {
       "_model_module": "@jupyter-widgets/controls",
       "_model_module_version": "1.5.0",
       "_model_name": "DescriptionStyleModel",
       "_view_count": null,
       "_view_module": "@jupyter-widgets/base",
       "_view_module_version": "1.2.0",
       "_view_name": "StyleView",
       "description_width": ""
      }
     },
     "b213544ce5ad48ef9242fbd2c1ded739": {
      "model_module": "@jupyter-widgets/base",
      "model_module_version": "1.2.0",
      "model_name": "LayoutModel",
      "state": {
       "_model_module": "@jupyter-widgets/base",
       "_model_module_version": "1.2.0",
       "_model_name": "LayoutModel",
       "_view_count": null,
       "_view_module": "@jupyter-widgets/base",
       "_view_module_version": "1.2.0",
       "_view_name": "LayoutView",
       "align_content": null,
       "align_items": null,
       "align_self": null,
       "border": null,
       "bottom": null,
       "display": null,
       "flex": null,
       "flex_flow": null,
       "grid_area": null,
       "grid_auto_columns": null,
       "grid_auto_flow": null,
       "grid_auto_rows": null,
       "grid_column": null,
       "grid_gap": null,
       "grid_row": null,
       "grid_template_areas": null,
       "grid_template_columns": null,
       "grid_template_rows": null,
       "height": null,
       "justify_content": null,
       "justify_items": null,
       "left": null,
       "margin": null,
       "max_height": null,
       "max_width": null,
       "min_height": null,
       "min_width": null,
       "object_fit": null,
       "object_position": null,
       "order": null,
       "overflow": null,
       "overflow_x": null,
       "overflow_y": null,
       "padding": null,
       "right": null,
       "top": null,
       "visibility": null,
       "width": null
      }
     },
     "c58ca929530b4e0d9955b9729bc2eec5": {
      "model_module": "@jupyter-widgets/controls",
      "model_module_version": "1.5.0",
      "model_name": "HBoxModel",
      "state": {
       "_dom_classes": [],
       "_model_module": "@jupyter-widgets/controls",
       "_model_module_version": "1.5.0",
       "_model_name": "HBoxModel",
       "_view_count": null,
       "_view_module": "@jupyter-widgets/controls",
       "_view_module_version": "1.5.0",
       "_view_name": "HBoxView",
       "box_style": "",
       "children": [
        "IPY_MODEL_dba176668f4a45d2a2bb12543c174b25",
        "IPY_MODEL_4ac2cd78785941a8b523038ddd5d2b2e",
        "IPY_MODEL_4a71f0e601b6402c9a84b4b3a6357d8a"
       ],
       "layout": "IPY_MODEL_b213544ce5ad48ef9242fbd2c1ded739"
      }
     },
     "dba176668f4a45d2a2bb12543c174b25": {
      "model_module": "@jupyter-widgets/controls",
      "model_module_version": "1.5.0",
      "model_name": "HTMLModel",
      "state": {
       "_dom_classes": [],
       "_model_module": "@jupyter-widgets/controls",
       "_model_module_version": "1.5.0",
       "_model_name": "HTMLModel",
       "_view_count": null,
       "_view_module": "@jupyter-widgets/controls",
       "_view_module_version": "1.5.0",
       "_view_name": "HTMLView",
       "description": "",
       "description_tooltip": null,
       "layout": "IPY_MODEL_17eb29af067b4819887ddcb53c23754b",
       "placeholder": "​",
       "style": "IPY_MODEL_03ba10837d6f4b16ab3bdc6ecc03aef3",
       "value": "Dl Completed...: 100%"
      }
     },
     "f72f058d15e64867b9287992176353a6": {
      "model_module": "@jupyter-widgets/base",
      "model_module_version": "1.2.0",
      "model_name": "LayoutModel",
      "state": {
       "_model_module": "@jupyter-widgets/base",
       "_model_module_version": "1.2.0",
       "_model_name": "LayoutModel",
       "_view_count": null,
       "_view_module": "@jupyter-widgets/base",
       "_view_module_version": "1.2.0",
       "_view_name": "LayoutView",
       "align_content": null,
       "align_items": null,
       "align_self": null,
       "border": null,
       "bottom": null,
       "display": null,
       "flex": null,
       "flex_flow": null,
       "grid_area": null,
       "grid_auto_columns": null,
       "grid_auto_flow": null,
       "grid_auto_rows": null,
       "grid_column": null,
       "grid_gap": null,
       "grid_row": null,
       "grid_template_areas": null,
       "grid_template_columns": null,
       "grid_template_rows": null,
       "height": null,
       "justify_content": null,
       "justify_items": null,
       "left": null,
       "margin": null,
       "max_height": null,
       "max_width": null,
       "min_height": null,
       "min_width": null,
       "object_fit": null,
       "object_position": null,
       "order": null,
       "overflow": null,
       "overflow_x": null,
       "overflow_y": null,
       "padding": null,
       "right": null,
       "top": null,
       "visibility": null,
       "width": null
      }
     }
    },
    "version_major": 2,
    "version_minor": 0
   }
  }
 },
 "nbformat": 4,
 "nbformat_minor": 5
}
