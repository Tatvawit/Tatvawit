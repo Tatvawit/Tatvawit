{
 "cells": [
  {
   "cell_type": "markdown",
   "id": "d39af8b0",
   "metadata": {
    "papermill": {
     "duration": 0.011932,
     "end_time": "2022-03-13T15:31:07.290144",
     "exception": false,
     "start_time": "2022-03-13T15:31:07.278212",
     "status": "completed"
    },
    "tags": []
   },
   "source": [
    "# **Import the relevant libraries :**"
   ]
  },
  {
   "cell_type": "code",
   "execution_count": 1,
   "id": "6e4a4fd7",
   "metadata": {
    "execution": {
     "iopub.execute_input": "2022-03-13T15:31:07.317278Z",
     "iopub.status.busy": "2022-03-13T15:31:07.316112Z",
     "iopub.status.idle": "2022-03-13T15:31:09.588708Z",
     "shell.execute_reply": "2022-03-13T15:31:09.587909Z",
     "shell.execute_reply.started": "2022-03-13T14:37:16.036151Z"
    },
    "papermill": {
     "duration": 2.287757,
     "end_time": "2022-03-13T15:31:09.588940",
     "exception": false,
     "start_time": "2022-03-13T15:31:07.301183",
     "status": "completed"
    },
    "tags": []
   },
   "outputs": [],
   "source": [
    "import numpy as np\n",
    "import pandas as pd\n",
    "import matplotlib.pyplot as plt\n",
    "import statsmodels.api as sm\n",
    "import seaborn as sns\n",
    "sns.set()\n",
    "\n",
    "# library for logistic summary table\n",
    "\n",
    "from scipy import stats\n",
    "stats.chisqprob = lambda chisq,df : stats.chi2.sf(chisq,df)"
   ]
  },
  {
   "cell_type": "markdown",
   "id": "efee73e8",
   "metadata": {
    "papermill": {
     "duration": 0.010735,
     "end_time": "2022-03-13T15:31:09.611510",
     "exception": false,
     "start_time": "2022-03-13T15:31:09.600775",
     "status": "completed"
    },
    "tags": []
   },
   "source": [
    "# **Load the data :**"
   ]
  },
  {
   "cell_type": "code",
   "execution_count": 2,
   "id": "f44af82e",
   "metadata": {
    "execution": {
     "iopub.execute_input": "2022-03-13T15:31:09.640681Z",
     "iopub.status.busy": "2022-03-13T15:31:09.640006Z",
     "iopub.status.idle": "2022-03-13T15:31:09.657040Z",
     "shell.execute_reply": "2022-03-13T15:31:09.656439Z",
     "shell.execute_reply.started": "2022-03-13T14:37:16.061803Z"
    },
    "papermill": {
     "duration": 0.034564,
     "end_time": "2022-03-13T15:31:09.657210",
     "exception": false,
     "start_time": "2022-03-13T15:31:09.622646",
     "status": "completed"
    },
    "tags": []
   },
   "outputs": [],
   "source": [
    "raw_data = pd.read_csv('../input/logestic-regression/2.01.Admittance.csv')"
   ]
  },
  {
   "cell_type": "code",
   "execution_count": 3,
   "id": "c1e4f14e",
   "metadata": {
    "execution": {
     "iopub.execute_input": "2022-03-13T15:31:09.683374Z",
     "iopub.status.busy": "2022-03-13T15:31:09.682318Z",
     "iopub.status.idle": "2022-03-13T15:31:09.713207Z",
     "shell.execute_reply": "2022-03-13T15:31:09.713726Z",
     "shell.execute_reply.started": "2022-03-13T14:37:33.796544Z"
    },
    "papermill": {
     "duration": 0.04558,
     "end_time": "2022-03-13T15:31:09.713900",
     "exception": false,
     "start_time": "2022-03-13T15:31:09.668320",
     "status": "completed"
    },
    "tags": []
   },
   "outputs": [
    {
     "data": {
      "text/html": [
       "<div>\n",
       "<style scoped>\n",
       "    .dataframe tbody tr th:only-of-type {\n",
       "        vertical-align: middle;\n",
       "    }\n",
       "\n",
       "    .dataframe tbody tr th {\n",
       "        vertical-align: top;\n",
       "    }\n",
       "\n",
       "    .dataframe thead th {\n",
       "        text-align: right;\n",
       "    }\n",
       "</style>\n",
       "<table border=\"1\" class=\"dataframe\">\n",
       "  <thead>\n",
       "    <tr style=\"text-align: right;\">\n",
       "      <th></th>\n",
       "      <th>SAT</th>\n",
       "      <th>Admitted</th>\n",
       "    </tr>\n",
       "  </thead>\n",
       "  <tbody>\n",
       "    <tr>\n",
       "      <th>0</th>\n",
       "      <td>1363</td>\n",
       "      <td>0</td>\n",
       "    </tr>\n",
       "    <tr>\n",
       "      <th>1</th>\n",
       "      <td>1792</td>\n",
       "      <td>1</td>\n",
       "    </tr>\n",
       "    <tr>\n",
       "      <th>2</th>\n",
       "      <td>1954</td>\n",
       "      <td>1</td>\n",
       "    </tr>\n",
       "    <tr>\n",
       "      <th>3</th>\n",
       "      <td>1653</td>\n",
       "      <td>0</td>\n",
       "    </tr>\n",
       "    <tr>\n",
       "      <th>4</th>\n",
       "      <td>1593</td>\n",
       "      <td>0</td>\n",
       "    </tr>\n",
       "    <tr>\n",
       "      <th>...</th>\n",
       "      <td>...</td>\n",
       "      <td>...</td>\n",
       "    </tr>\n",
       "    <tr>\n",
       "      <th>163</th>\n",
       "      <td>1722</td>\n",
       "      <td>1</td>\n",
       "    </tr>\n",
       "    <tr>\n",
       "      <th>164</th>\n",
       "      <td>1750</td>\n",
       "      <td>1</td>\n",
       "    </tr>\n",
       "    <tr>\n",
       "      <th>165</th>\n",
       "      <td>1555</td>\n",
       "      <td>0</td>\n",
       "    </tr>\n",
       "    <tr>\n",
       "      <th>166</th>\n",
       "      <td>1524</td>\n",
       "      <td>0</td>\n",
       "    </tr>\n",
       "    <tr>\n",
       "      <th>167</th>\n",
       "      <td>1461</td>\n",
       "      <td>0</td>\n",
       "    </tr>\n",
       "  </tbody>\n",
       "</table>\n",
       "<p>168 rows × 2 columns</p>\n",
       "</div>"
      ],
      "text/plain": [
       "      SAT  Admitted\n",
       "0    1363         0\n",
       "1    1792         1\n",
       "2    1954         1\n",
       "3    1653         0\n",
       "4    1593         0\n",
       "..    ...       ...\n",
       "163  1722         1\n",
       "164  1750         1\n",
       "165  1555         0\n",
       "166  1524         0\n",
       "167  1461         0\n",
       "\n",
       "[168 rows x 2 columns]"
      ]
     },
     "execution_count": 3,
     "metadata": {},
     "output_type": "execute_result"
    }
   ],
   "source": [
    "data = raw_data.copy()\n",
    "data['Admitted'] = data['Admitted'].map({'Yes':1,'No':0})\n",
    "data"
   ]
  },
  {
   "cell_type": "markdown",
   "id": "c14b236a",
   "metadata": {
    "papermill": {
     "duration": 0.011033,
     "end_time": "2022-03-13T15:31:09.736004",
     "exception": false,
     "start_time": "2022-03-13T15:31:09.724971",
     "status": "completed"
    },
    "tags": []
   },
   "source": [
    "# **Declare the Dependent and Independent varable :**"
   ]
  },
  {
   "cell_type": "code",
   "execution_count": 4,
   "id": "3589f996",
   "metadata": {
    "execution": {
     "iopub.execute_input": "2022-03-13T15:31:09.762182Z",
     "iopub.status.busy": "2022-03-13T15:31:09.761235Z",
     "iopub.status.idle": "2022-03-13T15:31:09.765501Z",
     "shell.execute_reply": "2022-03-13T15:31:09.766090Z",
     "shell.execute_reply.started": "2022-03-13T14:39:38.32548Z"
    },
    "papermill": {
     "duration": 0.018941,
     "end_time": "2022-03-13T15:31:09.766264",
     "exception": false,
     "start_time": "2022-03-13T15:31:09.747323",
     "status": "completed"
    },
    "tags": []
   },
   "outputs": [],
   "source": [
    "y = data['Admitted']\n",
    "x1 = data['SAT']"
   ]
  },
  {
   "cell_type": "markdown",
   "id": "c13225f5",
   "metadata": {
    "papermill": {
     "duration": 0.010791,
     "end_time": "2022-03-13T15:31:09.788263",
     "exception": false,
     "start_time": "2022-03-13T15:31:09.777472",
     "status": "completed"
    },
    "tags": []
   },
   "source": [
    "# **Logestic Regression :**"
   ]
  },
  {
   "cell_type": "code",
   "execution_count": 5,
   "id": "586179c1",
   "metadata": {
    "execution": {
     "iopub.execute_input": "2022-03-13T15:31:09.814242Z",
     "iopub.status.busy": "2022-03-13T15:31:09.813251Z",
     "iopub.status.idle": "2022-03-13T15:31:09.845936Z",
     "shell.execute_reply": "2022-03-13T15:31:09.846913Z",
     "shell.execute_reply.started": "2022-03-13T14:42:16.10668Z"
    },
    "papermill": {
     "duration": 0.047892,
     "end_time": "2022-03-13T15:31:09.847201",
     "exception": false,
     "start_time": "2022-03-13T15:31:09.799309",
     "status": "completed"
    },
    "tags": []
   },
   "outputs": [
    {
     "name": "stdout",
     "output_type": "stream",
     "text": [
      "Optimization terminated successfully.\n",
      "         Current function value: 0.137766\n",
      "         Iterations 10\n"
     ]
    }
   ],
   "source": [
    "x = sm.add_constant(x1)\n",
    "reg_log = sm.Logit(y,x)\n",
    "result_log = reg_log.fit()"
   ]
  },
  {
   "cell_type": "markdown",
   "id": "705db44e",
   "metadata": {
    "papermill": {
     "duration": 0.011617,
     "end_time": "2022-03-13T15:31:09.875153",
     "exception": false,
     "start_time": "2022-03-13T15:31:09.863536",
     "status": "completed"
    },
    "tags": []
   },
   "source": [
    "# **Summary Table :**"
   ]
  },
  {
   "cell_type": "code",
   "execution_count": 6,
   "id": "c30b5e08",
   "metadata": {
    "execution": {
     "iopub.execute_input": "2022-03-13T15:31:09.905223Z",
     "iopub.status.busy": "2022-03-13T15:31:09.904473Z",
     "iopub.status.idle": "2022-03-13T15:31:09.942876Z",
     "shell.execute_reply": "2022-03-13T15:31:09.943408Z",
     "shell.execute_reply.started": "2022-03-13T14:43:25.586607Z"
    },
    "papermill": {
     "duration": 0.05681,
     "end_time": "2022-03-13T15:31:09.943625",
     "exception": false,
     "start_time": "2022-03-13T15:31:09.886815",
     "status": "completed"
    },
    "tags": []
   },
   "outputs": [
    {
     "data": {
      "text/html": [
       "<table class=\"simpletable\">\n",
       "<caption>Logit Regression Results</caption>\n",
       "<tr>\n",
       "  <th>Dep. Variable:</th>       <td>Admitted</td>     <th>  No. Observations:  </th>  <td>   168</td>  \n",
       "</tr>\n",
       "<tr>\n",
       "  <th>Model:</th>                 <td>Logit</td>      <th>  Df Residuals:      </th>  <td>   166</td>  \n",
       "</tr>\n",
       "<tr>\n",
       "  <th>Method:</th>                 <td>MLE</td>       <th>  Df Model:          </th>  <td>     1</td>  \n",
       "</tr>\n",
       "<tr>\n",
       "  <th>Date:</th>            <td>Sun, 13 Mar 2022</td> <th>  Pseudo R-squ.:     </th>  <td>0.7992</td>  \n",
       "</tr>\n",
       "<tr>\n",
       "  <th>Time:</th>                <td>15:31:09</td>     <th>  Log-Likelihood:    </th> <td> -23.145</td> \n",
       "</tr>\n",
       "<tr>\n",
       "  <th>converged:</th>             <td>True</td>       <th>  LL-Null:           </th> <td> -115.26</td> \n",
       "</tr>\n",
       "<tr>\n",
       "  <th>Covariance Type:</th>     <td>nonrobust</td>    <th>  LLR p-value:       </th> <td>5.805e-42</td>\n",
       "</tr>\n",
       "</table>\n",
       "<table class=\"simpletable\">\n",
       "<tr>\n",
       "    <td></td>       <th>coef</th>     <th>std err</th>      <th>z</th>      <th>P>|z|</th>  <th>[0.025</th>    <th>0.975]</th>  \n",
       "</tr>\n",
       "<tr>\n",
       "  <th>const</th> <td>  -69.9128</td> <td>   15.737</td> <td>   -4.443</td> <td> 0.000</td> <td> -100.756</td> <td>  -39.070</td>\n",
       "</tr>\n",
       "<tr>\n",
       "  <th>SAT</th>   <td>    0.0420</td> <td>    0.009</td> <td>    4.454</td> <td> 0.000</td> <td>    0.024</td> <td>    0.060</td>\n",
       "</tr>\n",
       "</table><br/><br/>Possibly complete quasi-separation: A fraction 0.27 of observations can be<br/>perfectly predicted. This might indicate that there is complete<br/>quasi-separation. In this case some parameters will not be identified."
      ],
      "text/plain": [
       "<class 'statsmodels.iolib.summary.Summary'>\n",
       "\"\"\"\n",
       "                           Logit Regression Results                           \n",
       "==============================================================================\n",
       "Dep. Variable:               Admitted   No. Observations:                  168\n",
       "Model:                          Logit   Df Residuals:                      166\n",
       "Method:                           MLE   Df Model:                            1\n",
       "Date:                Sun, 13 Mar 2022   Pseudo R-squ.:                  0.7992\n",
       "Time:                        15:31:09   Log-Likelihood:                -23.145\n",
       "converged:                       True   LL-Null:                       -115.26\n",
       "Covariance Type:            nonrobust   LLR p-value:                 5.805e-42\n",
       "==============================================================================\n",
       "                 coef    std err          z      P>|z|      [0.025      0.975]\n",
       "------------------------------------------------------------------------------\n",
       "const        -69.9128     15.737     -4.443      0.000    -100.756     -39.070\n",
       "SAT            0.0420      0.009      4.454      0.000       0.024       0.060\n",
       "==============================================================================\n",
       "\n",
       "Possibly complete quasi-separation: A fraction 0.27 of observations can be\n",
       "perfectly predicted. This might indicate that there is complete\n",
       "quasi-separation. In this case some parameters will not be identified.\n",
       "\"\"\""
      ]
     },
     "execution_count": 6,
     "metadata": {},
     "output_type": "execute_result"
    }
   ],
   "source": [
    "result_log.summary()"
   ]
  }
 ],
 "metadata": {
  "kernelspec": {
   "display_name": "Python 3",
   "language": "python",
   "name": "python3"
  },
  "language_info": {
   "codemirror_mode": {
    "name": "ipython",
    "version": 3
   },
   "file_extension": ".py",
   "mimetype": "text/x-python",
   "name": "python",
   "nbconvert_exporter": "python",
   "pygments_lexer": "ipython3",
   "version": "3.7.12"
  },
  "papermill": {
   "default_parameters": {},
   "duration": 15.268873,
   "end_time": "2022-03-13T15:31:10.770200",
   "environment_variables": {},
   "exception": null,
   "input_path": "__notebook__.ipynb",
   "output_path": "__notebook__.ipynb",
   "parameters": {},
   "start_time": "2022-03-13T15:30:55.501327",
   "version": "2.3.3"
  }
 },
 "nbformat": 4,
 "nbformat_minor": 5
}
